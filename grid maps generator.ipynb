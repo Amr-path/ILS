{
 "cells": [
  {
   "cell_type": "code",
   "execution_count": null,
   "id": "a2bed823-4fbf-43ce-803a-d187cde0764e",
   "metadata": {},
   "outputs": [],
   "source": [
    "\n",
    "import random\n",
    "import numpy as np\n",
    "from PIL import Image\n",
    "import os\n",
    "\n",
    "def generate_random_grid(size, obstacle_probability):\n",
    "    return np.random.choice([0, 1], size=(size, size), p=[1-obstacle_probability, obstacle_probability])\n",
    "\n",
    "def ensure_path_exists(grid):\n",
    "    grid[0][0] = 0\n",
    "    grid[-1][-1] = 0\n",
    "    grid[0, :] = 0\n",
    "    grid[:, -1] = 0\n",
    "    return grid\n",
    "\n",
    "def generate_grid_maps(num_maps, size, obstacle_probability):\n",
    "    maps = []\n",
    "    for _ in range(num_maps):\n",
    "        grid = generate_random_grid(size, obstacle_probability)\n",
    "        grid = ensure_path_exists(grid)\n",
    "        maps.append(grid)\n",
    "    return maps\n",
    "\n",
    "def grid_to_image(grid, cell_size=20):\n",
    "    height, width = grid.shape\n",
    "    img = Image.new('RGB', (width * cell_size, height * cell_size), color='white')\n",
    "    pixels = img.load()\n",
    "\n",
    "    for y in range(height):\n",
    "        for x in range(width):\n",
    "            color = (0, 0, 0) if grid[y][x] == 1 else (255, 255, 255)\n",
    "            for dy in range(cell_size):\n",
    "                for dx in range(cell_size):\n",
    "                    pixels[x * cell_size + dx, y * cell_size + dy] = color\n",
    "\n",
    "    return img\n",
    "\n",
    "def save_grid_maps(maps, output_folder='grid_maps'):\n",
    "    if not os.path.exists(output_folder):\n",
    "        os.makedirs(output_folder)\n",
    "\n",
    "    for i, grid in enumerate(maps, 1):\n",
    "        img = grid_to_image(grid)\n",
    "        filename = os.path.join(output_folder, f'grid_map_{i}.png')\n",
    "        img.save(filename)\n",
    "        print(f\"Saved {filename}\")\n",
    "\n",
    "\n",
    "num_maps = 2000\n",
    "grid_size = 10\n",
    "obstacle_prob = 0.2\n",
    "\n",
    "random_maps = generate_grid_maps(num_maps, grid_size, obstacle_prob)\n",
    "\n",
    "\n",
    "save_grid_maps(random_maps)\n",
    "\n",
    "print(\"All grid maps have been saved as PNG files.\")"
   ]
  },
  {
   "cell_type": "code",
   "execution_count": null,
   "id": "1e94358f-d647-4f53-af43-ab6f84e21807",
   "metadata": {
    "tags": []
   },
   "outputs": [],
   "source": []
  },
  {
   "cell_type": "code",
   "execution_count": null,
   "id": "9eb4308f-cbff-4e12-8e7a-47eb06309c7e",
   "metadata": {},
   "outputs": [],
   "source": []
  }
 ],
 "metadata": {
  "kernelspec": {
   "display_name": "Python 3 (ipykernel)",
   "language": "python",
   "name": "python3"
  },
  "language_info": {
   "codemirror_mode": {
    "name": "ipython",
    "version": 3
   },
   "file_extension": ".py",
   "mimetype": "text/x-python",
   "name": "python",
   "nbconvert_exporter": "python",
   "pygments_lexer": "ipython3",
   "version": "3.11.5"
  }
 },
 "nbformat": 4,
 "nbformat_minor": 5
}
