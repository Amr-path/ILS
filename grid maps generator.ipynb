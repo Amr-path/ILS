{
 "cells": [
  {
   "cell_type": "code",
   "execution_count": null,
   "id": "a2bed823-4fbf-43ce-803a-d187cde0764e",
   "metadata": {},
   "outputs": [],
   "source": [
    "import random\n",
    "import numpy as np\n",
    "from PIL import Image\n",
    "import os\n",
    "\n",
    "def generate_random_grid(size, obstacle_probability):\n",
    "    return np.random.choice([0, 1], size=(size, size), p=[1-obstacle_probability, obstacle_probability])\n",
    "\n",
    "def ensure_path_exists(grid):\n",
    "    grid[0][0] = 0  # Start cell\n",
    "    grid[-1][-1] = 0  # Goal cell\n",
    "    grid[0, :] = 0  # Clear top row\n",
    "    grid[:, -1] = 0  # Clear rightmost column\n",
    "    return grid\n",
    "\n",
    "def generate_grid_maps(num_maps, size, obstacle_probability):\n",
    "    maps = []\n",
    "    for _ in range(num_maps):\n",
    "        grid = generate_random_grid(size, obstacle_probability)\n",
    "        grid = ensure_path_exists(grid)\
