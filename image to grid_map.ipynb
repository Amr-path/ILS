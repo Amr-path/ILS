import cv2
import numpy as np
import matplotlib.pyplot as plt

# Load the image uploaded by the user
image_path = "/mnt/data/1.png"

# Function to process the satellite-like image into a grid map
def satellite_to_grid(image_path, grid_size, threshold, output_file):
    """
    Converts a satellite image into a grid map.

    Args:
        image_path (str): Path to the satellite image.
        grid_size (tuple): Desired grid resolution (rows, cols).
        threshold (int): Threshold value for binarization (0-255).
        output_file (str): Output file to save the grid map.

    Returns:
        grid_map (np.ndarray): Generated grid map.
    """
    # Load the satellite image in grayscale
    image = cv2.imread(image_path, cv2.IMREAD_GRAYSCALE)
    if image is None:
        raise FileNotFoundError(f"Image at {image_path} not found.")

    # Resize the image to the desired grid size
    resized_image = cv2.resize(image, grid_size, interpolation=cv2.INTER_AREA)

    # Apply thresholding to create a binary map
    _, binary_map = cv2.threshold(resized_image, threshold, 1, cv2.THRESH_BINARY)

    # Save the grid map to a file
    np.savetxt(output_file, binary_map, fmt='%d')

    return binary_map

# Function to enhance the contrast of an image
def enhance_contrast(image):
    """
    Enhances the contrast of a grayscale image using histogram equalization.
    
    Args:
        image (np.ndarray): Input grayscale image.

    Returns:
        np.ndarray: Contrast-enhanced image.
    """
    return cv2.equalizeHist(image)

# Input parameters for processing
grid_size = (100, 100)  # Desired grid resolution (rows, cols)
threshold = 127  # Threshold for binarization (0-255)
output_file = "/mnt/data/grid_map.txt"  # Output file to save the grid

# Step 1: Process the original image
original_grid_map = satellite_to_grid(image_path, grid_size, threshold, output_file)

# Visualize the original grid map
plt.figure(figsize=(8, 8))
plt.imshow(original_grid_map, cmap='gray')
plt.title("Original Grid Map")
plt.axis("off")
plt.show()

# Step 2: Enhance the image contrast
image = cv2.imread(image_path, cv2.IMREAD_GRAYSCALE)
if image is None:
    raise FileNotFoundError(f"Image at {image_path} not found.")

enhanced_image = enhance_contrast(image)

# Step 3: Reprocess the enhanced image
resized_image = cv2.resize(enhanced_image, grid_size, interpolation=cv2.INTER_AREA)
_, adjusted_binary_map = cv2.threshold(resized_image, 100, 1, cv2.THRESH_BINARY)  # Adjusted threshold

# Visualize the enhanced image and adjusted grid map
plt.figure(figsize=(12, 6))

# Enhanced Image
plt.subplot(1, 2, 1)
plt.imshow(enhanced_image, cmap='gray')
plt.title("Enhanced Image")
plt.axis("off")

# Adjusted Binary Grid Map
plt.subplot(1, 2, 2)
plt.imshow(adjusted_binary_map, cmap='gray')
plt.title("Grid Map (Adjusted Threshold)")
plt.axis("off")

plt.show()

# Save the adjusted grid map
updated_output_file = "/mnt/data/grid_map_adjusted.txt"
np.savetxt(updated_output_file, adjusted_binary_map, fmt='%d')

# Confirm output file paths
output_file, updated_output_file
